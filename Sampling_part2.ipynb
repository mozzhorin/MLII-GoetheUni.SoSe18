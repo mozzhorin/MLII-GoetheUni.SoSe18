{
 "cells": [
  {
   "cell_type": "code",
   "execution_count": 1,
   "metadata": {
    "scrolled": true
   },
   "outputs": [
    {
     "name": "stdout",
     "output_type": "stream",
     "text": [
      "You are currently using this configuration -\n",
      "Python:  3.6.4 |Anaconda, Inc.| (default, Jan 16 2018, 18:10:19) \n",
      "[GCC 7.2.0]\n",
      "Numpy:  1.14.0\n",
      "Scipy:  1.0.0\n",
      "Matplotlib:  2.1.2\n",
      "Pystan:  2.17.1.0\n",
      "ipywidgets:  7.2.1\n",
      "\n",
      "The code was tested on Python:  3.6.4 |Anaconda, Inc.| (default, Jan 16 2018, 18:10:19) [GCC 7.2.0], Numpy:  1.14.0, Scipy:  1.0.0, Matplotlib:  2.1.2, Pystan:  2.17.1.0, ipywidgets:  7.1.1\n"
     ]
    }
   ],
   "source": [
    "%run config_check.py"
   ]
  },
  {
   "cell_type": "code",
   "execution_count": 1,
   "metadata": {},
   "outputs": [],
   "source": [
    "# <api>\n",
    "import numpy as np\n",
    "from scipy.stats import norm\n",
    "from matplotlib import pyplot as plt\n",
    "%matplotlib inline\n",
    "\n",
    "# Load classes and functions from the Part 1\n",
    "from jupyter_cms.loader import load_notebook\n",
    "smpl1 = load_notebook('./Sampling_part1.ipynb')"
   ]
  },
  {
   "cell_type": "markdown",
   "metadata": {},
   "source": [
    "# Sampling methods"
   ]
  },
  {
   "cell_type": "markdown",
   "metadata": {},
   "source": [
    "## Rejection sampling\n",
    "\n",
    "The next sampling method is less efficient, but more general in the sense that it can be used even if the normalization constant of the desired density $p(x)$ is unavailable.\n",
    "\n",
    "It is based on the idea that a sample at position $x$ should be drawn with probability $p(x)$, i.e. the height under the graph of $x$. Thus, a sample can be drawn using two random numbers as follows:\n",
    "\n",
    "* Draw a sample $x$ from some distribution $q(x)$\n",
    "* Draw a uniform number $u$ between 0 and $c q(x)$:\n",
    "  - If $u < p(x)$ return the sample $x$\n",
    "  - Else discard $x$ and repeat\n",
    "  \n",
    "Here, it is assumed that samples from $q(x)$ can be drawn efficiently. Further, the scaling constant $c$ must be choosen such that $c q(x) \\geq p(x) \\quad \\forall x$. The plot below illustrates the idea for the Gaussian distribution:"
   ]
  },
  {
   "cell_type": "code",
   "execution_count": 2,
   "metadata": {},
   "outputs": [],
   "source": [
    "# <api>\n",
    "def p(x):\n",
    "    \"\"\"\n",
    "    Unnormalized density of the standard Gaussian\n",
    "    \"\"\"\n",
    "    return np.exp(-0.5*x**2)"
   ]
  },
  {
   "cell_type": "code",
   "execution_count": 3,
   "metadata": {
    "scrolled": true
   },
   "outputs": [
    {
     "data": {
      "image/png": "[encoded data removed]",
      "text/plain": [
       "<matplotlib.figure.Figure at 0x7fe843a0f588>"
      ]
     },
     "metadata": {},
     "output_type": "display_data"
    }
   ],
   "source": [
    "q = norm(loc=0, scale=2)\n",
    "x = np.arange(-5,5,0.01)\n",
    "plt.plot(x, p(x), 'b-', x, 5.1*q.pdf(x), 'g-')\n",
    "plt.legend(['Density p(x)', 'Envelope c*q(x)']);"
   ]
  },
  {
   "cell_type": "code",
   "execution_count": 4,
   "metadata": {},
   "outputs": [],
   "source": [
    "#api\n",
    "class RejectionSampling (smpl1.Sampling):\n",
    "    def __init__ (self, p, q, c):\n",
    "        \"\"\"\n",
    "        q is assumed to support sampling q.rvs and density evaluation q.pdf\n",
    "        \"\"\"\n",
    "        self.p = p\n",
    "        self.q = q\n",
    "        self.c = c\n",
    "        self.tries = 0\n",
    "        self.samples = 0\n",
    "        self.last_approved = [0,0]\n",
    "\n",
    "    def sample (self):\n",
    "        while True:\n",
    "            self.tries += 1\n",
    "            x = self.q.rvs()\n",
    "            u = np.random.uniform(low=0, high=self.c*self.q.pdf(x))\n",
    "            if u < self.p(x):\n",
    "                self.samples += 1\n",
    "                return x\n",
    "            \n",
    "    def sample_all (self):\n",
    "        while True:\n",
    "            self.tries += 1\n",
    "            x = self.q.rvs()\n",
    "            u = np.random.uniform(low=0, high=self.c*self.q.pdf(x))\n",
    "            if u < self.p(x):\n",
    "                self.samples += 1\n",
    "                self.last_approved = x\n",
    "                return [x,x]\n",
    "            else:\n",
    "                return [self.last_approved, x]\n",
    "            \n",
    "    def __str__ (self):\n",
    "        return \"Rejection sampling: %d tries for %d samples\" % (self.tries, self.samples)           "
   ]
  },
  {
   "cell_type": "code",
   "execution_count": 5,
   "metadata": {
    "scrolled": false
   },
   "outputs": [
    {
     "data": {
      "application/vnd.jupyter.widget-view+json": {
       "model_id": "f48bbbcbdc2c4215b8b2c02160f41af5",
       "version_major": 2,
       "version_minor": 0
      },
      "text/plain": [
       "HBox(children=(Button(description='Redraw', style=ButtonStyle()), IntSlider(value=7, continuous_update=False, …"
      ]
     },
     "metadata": {},
     "output_type": "display_data"
    },
    {
     "data": {
      "application/vnd.jupyter.widget-view+json": {
       "model_id": "938bf284cb5d4fc395ecbf5943c55fbe",
       "version_major": 2,
       "version_minor": 0
      },
      "text/plain": [
       "Output()"
      ]
     },
     "metadata": {},
     "output_type": "display_data"
    },
    {
     "name": "stdout",
     "output_type": "stream",
     "text": [
      "Rejection sampling: 2005 tries for 1000 samples\n"
     ]
    }
   ],
   "source": [
    "sampling = RejectionSampling(p=p, q=norm(loc=0, scale=2), c=5.1)\n",
    "\n",
    "smpl1.show_sampling(sampling, plotter=smpl1.gauss_hist, \n",
    "                    f_exp=lambda x: np.power(x,2), true_exp=1.0)\n",
    "print (sampling)"
   ]
  },
  {
   "cell_type": "markdown",
   "metadata": {},
   "source": [
    "Rejection sampling tends to work well, if a distribution $q(x)$ which closely approximates $p(x)$ from above can be found. Otherwise, the area between the curves will be large leading to a high rejection rate. Especially in high dimensions this is a severe problem."
   ]
  },
  {
   "cell_type": "markdown",
   "metadata": {},
   "source": [
    "A standard example to illustrate the difficulties arising in high dimensions is a 2-dimensional Gaussian with high correlation:"
   ]
  },
  {
   "cell_type": "code",
   "execution_count": 6,
   "metadata": {},
   "outputs": [],
   "source": [
    "# <api>\n",
    "from scipy.stats import multivariate_normal\n",
    "p2d = multivariate_normal(mean=[0,0], cov=[[1, 0.99],[0.99, 1]])\n",
    "x = np.linspace(-3, 3, 200)\n",
    "y = np.linspace(-3, 3, 200)\n",
    "X, Y = np.meshgrid(x, y)\n",
    "XY = np.empty(X.shape + (2,))\n",
    "XY[:,:,0] = X; XY[:,:,1] = Y"
   ]
  },
  {
   "cell_type": "code",
   "execution_count": 7,
   "metadata": {
    "scrolled": true
   },
   "outputs": [
    {
     "data": {
      "image/png": "[encoded data removed]",
      "text/plain": [
       "<matplotlib.figure.Figure at 0x7fe83b291dd8>"
      ]
     },
     "metadata": {},
     "output_type": "display_data"
    }
   ],
   "source": [
    "plt.contour(X, Y, p2d.pdf(XY));"
   ]
  },
  {
   "cell_type": "markdown",
   "metadata": {},
   "source": [
    "The problem now is that an isotropic distribution is not a good fit since the above density has two very different length scales. Having a tight fit between the sampling and target density becomes even more important in high dimensions.\n",
    "\n",
    "For the sake of argument, consider the problem of sampling from a multi-variate Gaussian with mean zero and diagonal covariance matrix $\\sigma_p^2 \\mathbf{I}_D$ where $\\mathbf{I}_D$ denotes the $D \\times D$ identity matrix. As a sampling density, we choose another Gaussian with covariance $\\sigma_q^2 \\mathbf{I}_D$. The condition, $c q \\geq p$ now requires that $\\sigma_q^2 \\geq \\sigma_p^2$ and the optimal (smallest) value of $c$ is found to be $\\left( \\frac{\\sigma_p}{\\sigma_q} \\right)^D$. Then, the acceptance probability is given by the ratio of volumes under $p(x)$ and $c q(x)$ which is just $\\frac{1}{c}$ since both distributions are normalized. Thus, the acceptance probability vanishes exponentially in $D$.\n",
    "\n",
    "**Exercise:** Illustrate this effect when $\\sigma_q$ exceeds $\\sigma_p$ by $1 \\%$."
   ]
  },
  {
   "cell_type": "code",
   "execution_count": 8,
   "metadata": {},
   "outputs": [],
   "source": [
    "# <api>\n",
    "def gauss_hist2d (ax, data, bins):\n",
    "    x = np.array(data)[:,0]\n",
    "    y = np.array(data)[:,1]\n",
    "    ax.hist2d(x, y, bins, normed=True)"
   ]
  },
  {
   "cell_type": "code",
   "execution_count": 9,
   "metadata": {
    "scrolled": true
   },
   "outputs": [
    {
     "data": {
      "application/vnd.jupyter.widget-view+json": {
       "model_id": "b8b00a6c98284a35b9924c91ef4861ed",
       "version_major": 2,
       "version_minor": 0
      },
      "text/plain": [
       "HBox(children=(Button(description='Redraw', style=ButtonStyle()), IntSlider(value=7, continuous_update=False, …"
      ]
     },
     "metadata": {},
     "output_type": "display_data"
    },
    {
     "data": {
      "application/vnd.jupyter.widget-view+json": {
       "model_id": "7b7267ae00f040b0abef04e8dcea1c40",
       "version_major": 2,
       "version_minor": 0
      },
      "text/plain": [
       "Output()"
      ]
     },
     "metadata": {},
     "output_type": "display_data"
    },
    {
     "name": "stdout",
     "output_type": "stream",
     "text": [
      "Rejection sampling: 8391 tries for 1000 samples\n"
     ]
    }
   ],
   "source": [
    "q = multivariate_normal(mean=[0,0], cov=np.eye(2))\n",
    "sampling = RejectionSampling(p=p2d.pdf, q=q, c=p2d.pdf([0,0])/q.pdf([0,0]))\n",
    "\n",
    "### How can we draw the expectation for 2D data?\n",
    "smpl1.show_sampling(sampling, plotter=gauss_hist2d, exp=False)\n",
    "print(sampling)"
   ]
  },
  {
   "cell_type": "markdown",
   "metadata": {},
   "source": [
    "With a much higher rejection rate as in the 1-dimensional example above.\n",
    "\n",
    "The next example shows that rejection sampling fails, i.e. samples from the wrong distribution, if the condition $c q(x) \\geq p(x)$ is violated:"
   ]
  },
  {
   "cell_type": "code",
   "execution_count": 10,
   "metadata": {
    "scrolled": false
   },
   "outputs": [
    {
     "data": {
      "application/vnd.jupyter.widget-view+json": {
       "model_id": "c1cf5af736e741dcb797120d744f6f3f",
       "version_major": 2,
       "version_minor": 0
      },
      "text/plain": [
       "HBox(children=(Button(description='Redraw', style=ButtonStyle()), IntSlider(value=7, continuous_update=False, …"
      ]
     },
     "metadata": {},
     "output_type": "display_data"
    },
    {
     "data": {
      "application/vnd.jupyter.widget-view+json": {
       "model_id": "9b2cc1acb9064ad6bca3eba7c3b250c1",
       "version_major": 2,
       "version_minor": 0
      },
      "text/plain": [
       "Output()"
      ]
     },
     "metadata": {},
     "output_type": "display_data"
    },
    {
     "name": "stdout",
     "output_type": "stream",
     "text": [
      "Rejection sampling: 1412 tries for 1000 samples\n"
     ]
    }
   ],
   "source": [
    "sampling = RejectionSampling(p=p, q=norm(loc=0, scale=2), c=2)\n",
    "\n",
    "smpl1.show_sampling(sampling, plotter=smpl1.gauss_hist, \n",
    "                    f_exp=lambda x: np.power(x,2), true_exp=1.4)\n",
    "\n",
    "### What is the true value for the expectation hier? Why 1.4?\n",
    "\n",
    "print(sampling)"
   ]
  },
  {
   "cell_type": "markdown",
   "metadata": {},
   "source": [
    "## Importance sampling\n",
    "\n",
    "Importance sampling tries to fix the inefficiency of rejection sampling, by assigning weights to each sample instead of rejecting. It is based on the observation that\n",
    "$$ \\mathbb{E}_p[f] = \\int f(x) p(x) dx = \\int f(x) \\frac{p(x)}{q(x)} q(x) dx = \\mathbb{E}_q[f \\frac{p}{q}] $$\n",
    "for any function $f(x)$.\n",
    "\n",
    "Thus, instead of using samples $x_1,\\ldots,x_N$ from $p(x)$ to approximate the expectation $\\mathbb{E}_p[f]$ of $f$ under $p$ as\n",
    "$$ \\mathbb{E}_p[f] \\approx \\frac{1}{N} \\sum_{i=1}^n f(x_i) $$\n",
    "we can just as well use samples from some other distribution $q(x)$ and evaluate the expectation of $f \\frac{p}{q}$ under $q$.\n",
    "\n",
    "This scheme can easily be extended when the normalization constant of $p(x)$ is not available, i.e. $p(x) = \\frac{1}{Z} \\hat{p}(x)$. Then,\n",
    "$$ \\mathbb{E}_p[f] = \\int \\frac{1}{Z} f(x) \\hat{p}(x) dx = \\frac{1}{Z} \\mathbb{E}_q[f \\frac{\\hat{p}}{q}] $$\n",
    "and since $\\int p(x) dx = 1 = \\frac{1}{Z} \\int \\frac{\\hat{p}(x)}{q(x)} q(x) dx$, $Z$ can be found via importance sampling as well:\n",
    "$$ Z = \\int \\frac{\\hat{p}(x)}{q(x)} q(x) dx = \\mathbb{E}_q[\\frac{\\hat{p}}{q}]$$\n",
    "\n",
    "Thus, assuming that we have samples $x_1,\\ldots,x_n$ from $q$, the expectation $\\mathbb{E}_p[f]$ can be approximated as\n",
    "$$ \\mathbb{E}_p[f] \\approx \\frac{\\sum_{i=1}^N f(x_i) w_i}{\\sum_{i=1}^N w_i} $$\n",
    "with $w_i = \\frac{\\hat{p}(x_i)}{q(x_i)}$ being the **_weight_** of sample $x_i$"
   ]
  },
  {
   "cell_type": "code",
   "execution_count": 11,
   "metadata": {},
   "outputs": [],
   "source": [
    "# <api>\n",
    "class ImportanceSampling (smpl1.Sampling):\n",
    "    def __init__(self, log_p, q):\n",
    "        \"\"\"\n",
    "        q is assumed to support sampling q.rvs and density evaluation q.pdf\n",
    "        \"\"\"\n",
    "        self.log_p = log_p\n",
    "        self.q = q\n",
    "        \n",
    "    def sample (self):\n",
    "        \"\"\"\n",
    "        Note: Importance sampling returns a sample and its associated weight\n",
    "        \"\"\"\n",
    "        x = self.q.rvs()\n",
    "        w = np.exp(self.log_p(x) - self.q.logpdf(x))\n",
    "        return [x,w]"
   ]
  },
  {
   "cell_type": "code",
   "execution_count": 12,
   "metadata": {},
   "outputs": [],
   "source": [
    "# <api>\n",
    "def weighted_gauss_hist (ax, weighted_data, bins):\n",
    "    x = np.arange(-4,4,0.01)\n",
    "    ax.hist(np.array(weighted_data)[:,0], bins, normed=True, \n",
    "            weights=np.array(weighted_data)[:,1])\n",
    "    ax.plot(x, smpl1.phi(x), 'r-', alpha=0.7)"
   ]
  },
  {
   "cell_type": "code",
   "execution_count": 13,
   "metadata": {
    "scrolled": false
   },
   "outputs": [
    {
     "data": {
      "application/vnd.jupyter.widget-view+json": {
       "model_id": "1c769a2045984db69c4fb9af69d2a1cb",
       "version_major": 2,
       "version_minor": 0
      },
      "text/plain": [
       "HBox(children=(Button(description='Redraw', style=ButtonStyle()), IntSlider(value=7, continuous_update=False, …"
      ]
     },
     "metadata": {},
     "output_type": "display_data"
    },
    {
     "data": {
      "application/vnd.jupyter.widget-view+json": {
       "model_id": "cea241f50d0f4c65b4471af8ccb3c495",
       "version_major": 2,
       "version_minor": 0
      },
      "text/plain": [
       "Output()"
      ]
     },
     "metadata": {},
     "output_type": "display_data"
    }
   ],
   "source": [
    "sampling = ImportanceSampling(log_p=lambda x: np.log(p(x)), q=norm(loc=1,scale=2))\n",
    "\n",
    "smpl1.show_sampling(sampling, plotter=weighted_gauss_hist, \n",
    "                    f_exp=lambda x: np.array(x[0])[:,1], true_exp=np.sqrt(2*np.pi))"
   ]
  },
  {
   "cell_type": "markdown",
   "metadata": {},
   "source": [
    "We can also approximate the normalization constant of $p(x) = e^{-\\frac{1}{2} x^2}$ by the mean of the sample weights:"
   ]
  },
  {
   "cell_type": "code",
   "execution_count": 14,
   "metadata": {
    "scrolled": false
   },
   "outputs": [
    {
     "data": {
      "image/png": "[encoded data removed]",
      "text/plain": [
       "<matplotlib.figure.Figure at 0x7fdf4e84a940>"
      ]
     },
     "metadata": {},
     "output_type": "display_data"
    }
   ],
   "source": [
    "smpl1.show_expectation(sampling, lambda x: x[1]) # f extracts weight\n",
    "plt.axhline(np.sqrt(2*np.pi), color='r'); # true normalization constant"
   ]
  },
  {
   "cell_type": "markdown",
   "metadata": {},
   "source": [
    "Importance sampling can fail miserably if $q$ has thinner tails as $p$. In this case, the weights $\\frac{p(x)}{q(x)}$ can become arbitrarily large and dominate the weighted samples!\n",
    "\n",
    "This effect is demonstrated below:"
   ]
  },
  {
   "cell_type": "code",
   "execution_count": 15,
   "metadata": {
    "scrolled": false
   },
   "outputs": [
    {
     "data": {
      "application/vnd.jupyter.widget-view+json": {
       "model_id": "abb6c2a2065e4074ab46ddbcb0ede7eb",
       "version_major": 2,
       "version_minor": 0
      },
      "text/plain": [
       "HBox(children=(Button(description='Redraw', style=ButtonStyle()), IntSlider(value=7, continuous_update=False, …"
      ]
     },
     "metadata": {},
     "output_type": "display_data"
    },
    {
     "data": {
      "application/vnd.jupyter.widget-view+json": {
       "model_id": "40dc2b8d05834d97bc1a395be18630ed",
       "version_major": 2,
       "version_minor": 0
      },
      "text/plain": [
       "Output()"
      ]
     },
     "metadata": {},
     "output_type": "display_data"
    }
   ],
   "source": [
    "sampling = ImportanceSampling(log_p=lambda x: np.log(p(x)), q=norm(loc=0,scale=0.25))\n",
    "\n",
    "smpl1.show_sampling(sampling, plotter=weighted_gauss_hist,  \n",
    "                    f_exp=lambda x: np.array(x[0])[:,1], true_exp=1.0)\n",
    "### What is the true value for the expectation hier?"
   ]
  },
  {
   "cell_type": "markdown",
   "metadata": {},
   "source": [
    "Is there a diagnostic to detect this type of problem?\n",
    "\n",
    "In general, detecting the failure of a sampling methods can be quite difficult. Nevertheless the importance weights can give us some information about the effectiveness of importance sampling. We noted above, that the variance of the standard Monte-Carlo estimate using $N$ samples is given by\n",
    "$$ \\mathbb{V}ar_p[\\frac{1}{N} \\sum_{i=1}^N f(x_i)] = \\frac{1}{N} \\mathbb{V}ar_p[f] $$\n",
    "Similarly, we could compute the variance of the weighted average used in importance sampling\n",
    "$$ \\mathbb{V}ar_p[\\sum_{i=1}^N \\frac{w_i}{\\sum_{i=1}^N w_i} f(x_i)] = \\frac{\\sum_{i=1}^N w_i^2}{(\\sum_{i=1}^N w_i)^2} \\mathbb{V}ar_p[f] $$\n",
    "Thus, by comparing coefficients we can define\n",
    "$$ N_{eff} = \\frac{(\\sum_{i=1}^N w_i)^2}{\\sum_{i=1}^N w_i^2} $$\n",
    "as an approximate effective sampling size.\n",
    "\n",
    "Note: This derivation is by no means exact, as the weights $w_i$ are actually not fixed, but dependent on the samples $x_i$. Thus, they are in particular not necessarily independent of $f(x_i)$ ..."
   ]
  },
  {
   "cell_type": "code",
   "execution_count": 16,
   "metadata": {},
   "outputs": [],
   "source": [
    "# <api>\n",
    "def ess (x):\n",
    "    \"\"\"\n",
    "    Effective sample size of weighted samples x\n",
    "    \"\"\"\n",
    "    w = np.array(x)[:,1] # extract weight\n",
    "    return np.sum(w)**2/np.sum(w**2)"
   ]
  },
  {
   "cell_type": "code",
   "execution_count": 17,
   "metadata": {
    "scrolled": false
   },
   "outputs": [],
   "source": [
    "# <api>\n",
    "def plt_ess (ax, weighted_data, bins):\n",
    "    weighted_gauss_hist(ax, weighted_data, bins)    \n",
    "    ax.text(1, 0.35, \"N_eff = \"+str(ess(weighted_data)))"
   ]
  },
  {
   "cell_type": "code",
   "execution_count": 18,
   "metadata": {},
   "outputs": [
    {
     "data": {
      "application/vnd.jupyter.widget-view+json": {
       "model_id": "4aa95724deec464dafb28d17a9890a4d",
       "version_major": 2,
       "version_minor": 0
      },
      "text/plain": [
       "HBox(children=(Button(description='Redraw', style=ButtonStyle()), IntSlider(value=7, continuous_update=False, …"
      ]
     },
     "metadata": {},
     "output_type": "display_data"
    },
    {
     "data": {
      "application/vnd.jupyter.widget-view+json": {
       "model_id": "afdc485bef8240d6ae201ef9dc9d2dcb",
       "version_major": 2,
       "version_minor": 0
      },
      "text/plain": [
       "Output()"
      ]
     },
     "metadata": {},
     "output_type": "display_data"
    }
   ],
   "source": [
    "smpl1.show_sampling(sampling, plotter=plt_ess, f_exp=lambda x: np.array(x[0])[:,1], \n",
    "                    true_exp=2.5)\n",
    "### What is the true value for the expectation hier?"
   ]
  },
  {
   "cell_type": "markdown",
   "metadata": {},
   "source": [
    "Some theoretical remarks on importance sampling:\n",
    "\n",
    "* What is the optimal choice for $q$?\n",
    "\n",
    "  Remember that the variance of a Monte-Carlo estimate for $\\mu = \\mathbb{E}_p[f]$ is given by $\\frac{1}{N} \\mathbb{V}ar_p[f]$. In importance sampling, the integrand is changed to $f \\frac{p}{q}$ and the expectation is then evaluated with respect to the sampling density $q$. It is easy to see that the optimal choice would be $q(x) = \\frac{p(x) f(x)}{\\mu}$ with variance\n",
    "  $$ \\mathbb{V}ar_q[ f \\frac{p}{q} ] = \\mathbb{V}ar_q[ \\mu ] = 0 $$\n",
    "  Note: While optimal this choice is infeasible since the normalization constant of this $q$ is equal to $\\mu$, i.e. the mean of $f$ which is to be computed in the first place.\n",
    "\n",
    "* In general, importance sampling can be considered a variance reduction technique. We compute $$ \\mathbb{V}ar_p[f] - \\mathbb{V}ar_q[f \\frac{p}{q}] = \\int f^2(x) (1 - \\frac{p(x)}{q(x)}) p(x) dx $$\n",
    "  Thus, importance sampling reduces the variances when $\\frac{p(x)}{q(x)} < 1$ if $f(x) p(x)$ large, while allowing for $\\frac{p(x)}{q(x)} > 1$ if $f(x) p(x)$ is small."
   ]
  },
  {
   "cell_type": "markdown",
   "metadata": {},
   "source": [
    "**Example**: Pricing an (out-of-the-money) Asian call option with importance sampling\n",
    "\n",
    "Consider a Black-Scholes world, i.e. the stock price $S_t$ follows a geometric Brownian motion, i.e. $$ S_t = S_0 e^{(r - \\frac{\\sigma^2}{2}) t + \\sigma W_t}$$ where $W_t$ denotes a Brownian motion.\n",
    "\n",
    "Now, assume that an Asian call with strike $K$ and expiring at time $T$ pays\n",
    "$$ a(S) = \\max ( 0, \\frac{1}{M} \\sum_{i=1}^M S_{i \\frac{T}{M}} - K ), $$\n",
    "i.e. the stock price is averaged over days $i \\frac{T}{M}$ for $i=1,\\ldots,M$ and then compared with the strike $K$. Using the above formula for the stock price, we can compute $S_{i \\frac{T}{M}} = S_0 e^{(r - \\frac{\\sigma^2}{2}) i \\frac{T}{M} + \\sigma \\sqrt{\\frac{T}{M}} (X_1 + \\ldots + X_i)}$ where $X_i \\sim \\mathcal{N}(0,1)$ since the Brownian motion is the cumulative sum of standard normal increments.\n",
    "\n",
    "The risk-neutral option price is then computed as\n",
    "$$ \\mathbb{E}_S[ e^{-rT} a(S) ] $$\n",
    "\n",
    "Below, we compute the price for an option that is vastly out of the money, i.e. $K \\gg S_0$"
   ]
  },
  {
   "cell_type": "code",
   "execution_count": 19,
   "metadata": {
    "scrolled": true
   },
   "outputs": [],
   "source": [
    "# <api>\n",
    "def stock_price (S_0, r, sigma, T, X):\n",
    "    \"\"\"\n",
    "    Stock prices S_{i\\frac{T}{M}} given a sequence X[1], ..., X[M] of normal increments\n",
    "    \"\"\"\n",
    "    M = X.size\n",
    "    i = np.arange(M) + 1 # i = 1,...,M\n",
    "    return S_0*np.exp( (r-sigma**2/2.0)*i*T/M + sigma*np.sqrt(T/M)*np.cumsum(X) )\n",
    "\n",
    "def a(S, K):\n",
    "    return np.max([0, np.mean(S) - K])\n",
    "\n",
    "class NormalIncrements (smpl1.Sampling):\n",
    "    def __init__ (self, M):\n",
    "        self.M = M\n",
    "    def sample(self):\n",
    "        return np.random.normal(size=(self.M,))\n",
    "    \n",
    "def out_of_money (X):\n",
    "    sigma = 0.25/np.sqrt(365) # 25% yearly volatility\n",
    "    S = stock_price(100, 0, sigma, 6*30, X)\n",
    "    return a(S, 130)"
   ]
  },
  {
   "cell_type": "code",
   "execution_count": 21,
   "metadata": {},
   "outputs": [
    {
     "data": {
      "image/png": "[encoded data removed]",
      "text/plain": [
       "<matplotlib.figure.Figure at 0x7f3d61979eb8>"
      ]
     },
     "metadata": {},
     "output_type": "display_data"
    }
   ],
   "source": [
    "M = 100\n",
    "smpl1.show_expectation(NormalIncrements(M), out_of_money)"
   ]
  },
  {
   "cell_type": "markdown",
   "metadata": {},
   "source": [
    "Next, the same with importance sampling shifting up the mean of the sampling distribution:"
   ]
  },
  {
   "cell_type": "code",
   "execution_count": 22,
   "metadata": {
    "scrolled": true
   },
   "outputs": [
    {
     "data": {
      "image/png": "[encoded data removed]",
      "text/plain": [
       "<matplotlib.figure.Figure at 0x7f3d618de400>"
      ]
     },
     "metadata": {},
     "output_type": "display_data"
    }
   ],
   "source": [
    "smpl1.show_expectation(ImportanceSampling(log_p = multivariate_normal(mean=np.zeros(10)).logpdf,\n",
    "                                          q = multivariate_normal(mean=1.0*np.ones(10))), \n",
    "                       lambda X: X[1]*out_of_money(X[0]))"
   ]
  },
  {
   "cell_type": "code",
   "execution_count": null,
   "metadata": {},
   "outputs": [],
   "source": []
  },
  {
   "cell_type": "code",
   "execution_count": null,
   "metadata": {},
   "outputs": [],
   "source": []
  }
 ],
 "metadata": {
  "kernelspec": {
   "display_name": "Python 3",
   "language": "python",
   "name": "python3"
  },
  "language_info": {
   "codemirror_mode": {
    "name": "ipython",
    "version": 3
   },
   "file_extension": ".py",
   "mimetype": "text/x-python",
   "name": "python",
   "nbconvert_exporter": "python",
   "pygments_lexer": "ipython3",
   "version": "3.6.4"
  }
 },
 "nbformat": 4,
 "nbformat_minor": 1
}
