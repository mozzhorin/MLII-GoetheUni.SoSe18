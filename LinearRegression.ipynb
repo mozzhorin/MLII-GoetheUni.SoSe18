{
 "cells": [
  {
   "cell_type": "code",
   "execution_count": 1,
   "metadata": {},
   "outputs": [],
   "source": [
    "#The interactive plots are created by using the libraries bqplot and ipywidgets\n",
    "import matplotlib.pyplot as plt\n",
    "import numpy as np\n",
    "## import sklearn\n",
    "import numpy.random\n",
    "import numpy.linalg\n",
    "import pandas as pd\n",
    "import bqplot as bq\n",
    "from bqplot import *\n",
    "from ipywidgets import Label, IntSlider, FloatSlider, Dropdown\n",
    "## import itertools"
   ]
  },
  {
   "cell_type": "markdown",
   "metadata": {},
   "source": [
    "# Linear Regression\n",
    "\n",
    "Linear regression is a standard tool in statistics and machine learning expressing a linear relationship between several independent $\\mathbf{x} = x_1, \\ldots, x_D$ and a dependent variable $y$:\n",
    "$$ y = w_0 + \\sum_{i = 1}^D w_i x_i + \\epsilon $$\n",
    "where $\\epsilon$ denotes the residual error of the model.\n",
    "\n",
    "In practice, a data set $\\mathbf{D} = \\{(\\mathbf{x}_n, t_n)\\}_{n = 1}^N$ containing $N$ training examples is usually available. The linear regression weights are then found by minimizing the squared error between model predictions and actual target outputs, i.e.\n",
    "$$ w_{LR} = \\mathtt{argmin}_{\\mathbf{w}} \\frac{1}{2} \\sum_{n=1}^N (w_0 + \\sum_i w_i x_{ni} - t_n)^2 $$\n",
    "In the terminology of machine learning, linear regression is an example of supervised learning with continuous targets.\n",
    "\n",
    "Linear regression can be conveniently expressed in matrix notation:\n",
    "$$ y = \\mathbf{w}^T \\mathbf{x} + \\mathbf{\\epsilon} $$\n",
    "where $\\mathbf{w}^T$ denotes the transpose of the weight vector and $\\mathbf{x}$ is assumed to be extended with $x_0 \\equiv 1$. Then, the above minimization problem can be written as\n",
    "$$ w_{LR} = \\mathtt{argmin}_{\\mathbf{w}} \\frac{1}{2} \\sum_{n=1}^N (t_n - \\mathbf{w}^T \\mathbf{x}_n)^2 $$\n",
    "The optimal weight vector can be found analytically by taking the derivative and setting it to zero:\n",
    "\\begin{eqnarray*}\n",
    "  \\frac{\\partial}{\\partial w_i} \\frac{1}{2} \\sum_{n=1}^N (t_n - \\mathbf{w}^T \\mathbf{x}_n)^2 & = & \n",
    "  \\sum_{n=1}^N (t_n - \\mathbf{w}^T \\mathbf{x}_n) x_{in} \\overset{!}{=} 0  \\quad \\forall i \\\\\n",
    "  \\implies {\\mathbf{w}_{LR}}^T \\left( \\sum_{n=1}^N \\mathbf{x}_n \\mathbf{x}_n^T \\right) & = & \\sum_{i=1}^N t_n       \\mathbf{x}_n^T \\\\\n",
    "  \\mathbf{w}_{LR} & = & (\\mathbf{X}^T \\mathbf{X})^{-1} \\mathbf{X}^T \\mathbf{t}\n",
    "\\end{eqnarray*}\n",
    "where all training samples have been collected into the design matrix $\\mathbf{X} = (\\mathbf{x}_1^T, \\ldots, \\mathbf{x}_N^T) \\in \\mathbb{R}^{N \\times (D+1)}$ and target vector $\\mathbf{t} = (t_1, \\ldots, t_N)^T$."
   ]
  },
  {
   "cell_type": "markdown",
   "metadata": {},
   "source": [
    "Roughly following the API of sklearn, linear regression can be implemented in Python as follows:"
   ]
  },
  {
   "cell_type": "code",
   "execution_count": 2,
   "metadata": {},
   "outputs": [],
   "source": [
    "class LinearRegression:\n",
    "    \"\"\"\n",
    "    Simple linear regression\n",
    "    \"\"\"\n",
    "    \n",
    "    def __init__(self):\n",
    "        \"\"\"\n",
    "        Create a linear regression model\n",
    "        t = X w\n",
    "        \n",
    "        that minimizes\n",
    "        ||X w - t||_2\n",
    "        \"\"\"\n",
    "        self.weights_ = None\n",
    "        \n",
    "    def fit(self, X, t):\n",
    "        \"\"\"\n",
    "        Fit linear model on training data D = (X, t)\n",
    "        \"\"\"\n",
    "        num_samples, num_features = X.shape\n",
    "        self.weights_ = np.linalg.solve(np.dot(X.T, X), np.dot(X.T, t))\n",
    "        \n",
    "        return self\n",
    "    \n",
    "    def predict(self, X):\n",
    "        \"\"\"\n",
    "        Predict model response on inputs X\n",
    "        \"\"\"\n",
    "        num_samples, num_features = X.shape\n",
    "        \n",
    "        return np.dot(X, self.weights_)"
   ]
  },
  {
   "cell_type": "markdown",
   "metadata": {},
   "source": [
    "Note that instead of computing the matrix $(\\mathbf{X}^T \\mathbf{X})^{-1} \\mathbf{X}^T$, also called *pseudo-inverse* of $\\mathbf{X}$, we solve the linear system of equations $\\mathbf{w}_{LR}^T (\\mathbf{X}^T \\mathbf{X}) = \\mathbf{X}^T \\mathbf{t}$ as matrix inversion is numerically rather unstable."
   ]
  },
  {
   "cell_type": "markdown",
   "metadata": {},
   "source": [
    "We can now test our linear regression class on a simple example data set ..."
   ]
  },
  {
   "cell_type": "code",
   "execution_count": 3,
   "metadata": {},
   "outputs": [
    {
     "name": "stdout",
     "output_type": "stream",
     "text": [
      "[-1.04440751  2.08640332]\n"
     ]
    },
    {
     "data": {
      "image/png": "[encoded data removed]",
      "text/plain": [
       "<matplotlib.figure.Figure at 0x7f88633cd0b8>"
      ]
     },
     "metadata": {},
     "output_type": "display_data"
    }
   ],
   "source": [
    "N = 25\n",
    "x = np.random.uniform(size = N)\n",
    "t = 2 * x - 1 + np.random.normal(loc = 0, scale = 0.3, size = N)\n",
    "## Create design matrix with x_0 = 1\n",
    "X = np.hstack((np.ones((N,1)), x[:, None]))\n",
    "lm = LinearRegression()\n",
    "lm.fit(X, t)\n",
    "print(lm.weights_)\n",
    "## Show training data and model predictions\n",
    "x_pred = np.linspace(-0.5, 1.5, 251)\n",
    "X_pred = np.hstack((np.ones((len(x_pred), 1)), x_pred[:, None]))\n",
    "y_pred = lm.predict(X_pred)\n",
    "\n",
    "plt.plot(x, t, 'r.');\n",
    "plt.plot(x_pred, y_pred, 'b-');\n",
    "plt.title(\"Linear regression example\");"
   ]
  },
  {
   "cell_type": "markdown",
   "metadata": {},
   "source": [
    "Linear regression can easily be generalized to model non-linear relationships using *basis functions* $\\Phi_i(\\mathbf{x}), i = 0, \\ldots, M$:\n",
    "$$ y = \\sum_{i=0}^M \\Phi_i(\\mathbf{x}) + \\epsilon $$\n",
    "Common choices of basis functions include\n",
    "* Polynomials, i.e. $\\Phi_i(x) = x^i$\n",
    "* Radial basis functions, i.e. $\\Phi_i(x) = e^{- \\frac{1}{2} \\frac{(x -\n",
    "        \\mu_i)^2}{\\sigma_i^2}}$\n",
    "        \n",
    "As before the intercept is conviently included by choosing $\\Phi_0(\\mathbf{x}) \\equiv 1$."
   ]
  },
  {
   "cell_type": "markdown",
   "metadata": {},
   "source": [
    "Again, roughly following the API of sklearn linear regression with basis functions can be implemented as a preprocessing pipeline, i.e. the data are first changed -- via some basis functions -- before they are passed on to an actual model."
   ]
  },
  {
   "cell_type": "code",
   "execution_count": 4,
   "metadata": {},
   "outputs": [],
   "source": [
    "class InterceptFeature:\n",
    "    \"\"\"\n",
    "    Constant intercept feature\n",
    "    \"\"\"\n",
    "    def transform(self, x):\n",
    "        return np.hstack([np.ones((x.shape[0], 1)), x])\n",
    "\n",
    "class PolynomialFeatures:\n",
    "    \"\"\"\n",
    "    Polynomial features\n",
    "    \"\"\"\n",
    "    def __init__(self, degree):\n",
    "        self.__degree = degree\n",
    "    \n",
    "    def transform(self, x):\n",
    "        \"\"\"\n",
    "        Compute features x**i for i = 0, ..., degree\n",
    "        \"\"\"\n",
    "        return np.hstack([x**i for i in range(self.__degree + 1)])\n",
    "    \n",
    "class GaussianBasisFunctions():\n",
    "    \"\"\"\n",
    "    Transform the input with a gaussian function of the form:\n",
    "    phi = exp(- kernelsize(=500) * (phi - mu) ** 2)\n",
    "    \"\"\"\n",
    "    def __init__(self, mus, sigma = 1.0):\n",
    "        self.mus = mus\n",
    "        self.sigma = sigma\n",
    "      \n",
    "    def transform(self, X):\n",
    "        phi = np.repeat(X,np.shape(self.mus)[0], axis = 1)\n",
    "        phi_trans = phi.T - self.mus\n",
    "        phi_trans = np.exp(- 0.5 / self.sigma**2 * phi_trans.T**2)\n",
    "        return phi_trans    \n",
    "    \n",
    "class Pipeline:\n",
    "    \"\"\"\n",
    "    Model pipeline of preprocessing steps and actual model\n",
    "    \"\"\"\n",
    "    def __init__(self, steps):\n",
    "        self.steps = steps\n",
    "    def fit(self, X, y):\n",
    "        for step in self.steps[:-1]:\n",
    "            X = step.transform(X)\n",
    "        ## Last step of pipeline is actual model\n",
    "        self.steps[-1].fit(X, y)\n",
    "        return self\n",
    "    def predict(self, X):\n",
    "        for step in self.steps[:-1]:\n",
    "            X = step.transform(X)\n",
    "        return self.steps[-1].predict(X)"
   ]
  },
  {
   "cell_type": "markdown",
   "metadata": {},
   "source": [
    "These basis functions then transform the original input data $\\mathbf{x}$ and the linear regression is based on the values $\\Phi_1(\\mathbf{x}), \\ldots, \\Phi_M(\\mathbf{x})$ instead. Below an example with $x \\in \\mathbb{R}$ is shown:\n",
    "* Polynomial basis functions $\\Phi_i(x) = x^i$ for $i = 0, 1, 2, 3$\n",
    "* Radial basis functions $\\Phi_i(x) = e^{- \\frac{1}{2} \\frac{(x - \\mu_i)^2}{\\sigma^2}}$ with $\\mu_1 = -1, \\mu_2 = 0, \\mu_3 = 1$ and width $\\sigma = 0.4$\n",
    "The regression for the point $x = 0.25$ is then based on the output of the corresponding basis functions (marked with a dot in the figure)."
   ]
  },
  {
   "cell_type": "code",
   "execution_count": 5,
   "metadata": {},
   "outputs": [
    {
     "data": {
      "image/png": "[encoded data removed]",
      "text/plain": [
       "<matplotlib.figure.Figure at 0x7f885a1ef320>"
      ]
     },
     "metadata": {},
     "output_type": "display_data"
    }
   ],
   "source": [
    "plt.plot(x_pred, PolynomialFeatures(3).transform(x_pred[:, None]), '-');\n",
    "xp = np.array([[0.25]])\n",
    "plt.plot(xp, PolynomialFeatures(3).transform(xp), 'k.')\n",
    "plt.title(\"Polynomial basis functions up to degree 3\");"
   ]
  },
  {
   "cell_type": "code",
   "execution_count": 6,
   "metadata": {},
   "outputs": [
    {
     "data": {
      "image/png": "[encoded data removed]",
      "text/plain": [
       "<matplotlib.figure.Figure at 0x7f885a247a90>"
      ]
     },
     "metadata": {},
     "output_type": "display_data"
    }
   ],
   "source": [
    "mus = np.array([-1, 0, 1])[:, None]\n",
    "plt.plot(x_pred, GaussianBasisFunctions(mus = mus, sigma = 0.4).transform(x_pred[:, None]), '-');\n",
    "plt.plot(xp, GaussianBasisFunctions(mus = mus, sigma = 0.4).transform(xp), 'k.');\n",
    "plt.title(\"Radial basis functions of width 0.4 centered at -1, 0, 1\");"
   ]
  },
  {
   "cell_type": "markdown",
   "metadata": {},
   "source": [
    "Now, using 8 radial basis functions equally spaced between -1 and 1, a non-linear regression line can be computed for the original example data.\n",
    "Note that the model starts to fits noise in the data as we know that the data where generated with a true linear relationship. Especially when extrapolating this leads to wrong predictions."
   ]
  },
  {
   "cell_type": "code",
   "execution_count": 7,
   "metadata": {},
   "outputs": [
    {
     "data": {
      "image/png": "[encoded data removed]",
      "text/plain": [
       "<matplotlib.figure.Figure at 0x7f885a162a90>"
      ]
     },
     "metadata": {},
     "output_type": "display_data"
    }
   ],
   "source": [
    "nlm = Pipeline([GaussianBasisFunctions(np.linspace(-1, 1, 8)[:, None], sigma = 0.4),\n",
    "                InterceptFeature(), ## add constant basis function\n",
    "                LinearRegression()])\n",
    "nlm.fit(x[:, None], t)\n",
    "## Show training data and model predictions\n",
    "y_pred = nlm.predict(x_pred[:, None])\n",
    "\n",
    "plt.plot(x, t, 'r.');\n",
    "plt.plot(x_pred, y_pred, 'b-');\n",
    "plt.ylim(-3, 3);\n",
    "plt.title(\"Non-linear regression example\");"
   ]
  },
  {
   "cell_type": "markdown",
   "metadata": {},
   "source": [
    "To get a feeling for the role of different basis functions, we create several example data sets and an interactive plot  that allows to choose different options:"
   ]
  },
  {
   "cell_type": "code",
   "execution_count": 8,
   "metadata": {},
   "outputs": [],
   "source": [
    "class InteractiveDemo:\n",
    "    \n",
    "    def __init__(self):\n",
    "        self.sigma = FloatSlider(1, min = 0.1, max = 2, step = 0.02,\n",
    "                                 description = 'RBF width')\n",
    "        self.deg = IntSlider(2, min = 0, max = 10, step = 1,\n",
    "                             description = 'Poly degree')\n",
    "        self.model = Dropdown(options = ['Lin', 'Poly', 'RBF'],\n",
    "                              value = 'Lin',\n",
    "                              description = 'Basis function')\n",
    "        self.data = Dropdown(options = ['Lin', 'Sin1', 'Sin2'],\n",
    "                             value = 'Lin',\n",
    "                             description = 'Data set')\n",
    "        N = 25\n",
    "        x = np.random.uniform(size = N)\n",
    "        self.xdata = {'Lin': x,\n",
    "                      'Sin1': x,\n",
    "                      'Sin2': x}\n",
    "        self.ydata = {'Lin': 2.0 * x - 1.0 + 0.3 * np.random.normal(size = N),\n",
    "                      'Sin1': np.sin(2. * np.pi * x) + 0.3 * np.random.normal(size = N),\n",
    "                      'Sin2': np.sin(2. * np.pi * x) + 0.3 * np.random.normal(size = N)}\n",
    "        self.htitle = 'Regression demo'\n",
    "        \n",
    "    def get_model(self):\n",
    "        if self.model.value == 'Lin':\n",
    "            return Pipeline([InterceptFeature(), LinearRegression()])\n",
    "        elif self.model.value == 'Poly':\n",
    "            return Pipeline([PolynomialFeatures(self.deg.value), LinearRegression()])\n",
    "        else:\n",
    "            return Pipeline([GaussianBasisFunctions(np.linspace(-1, 2, 12)[:, None], self.sigma.value),\n",
    "                                                     InterceptFeature(),\n",
    "                                                     LinearRegression()])\n",
    "        \n",
    "    def update_all(self, change=None):\n",
    "        with self.scat.hold_sync():\n",
    "            self.scat.x = self.xdata[self.data.value]\n",
    "            self.scat.y = self.ydata[self.data.value]\n",
    "        self.update_line(change)\n",
    "    \n",
    "    def update_line(self, change=None):\n",
    "        with self.lin.hold_sync():\n",
    "            self.lin.x = np.linspace(-0.5, 1.5, 251)\n",
    "            self.lin.y = self.get_model().fit(self.scat.x[:, None], self.scat.y).predict(self.lin.x[:, None])\n",
    "    \n",
    "    def scatter_and_line(self):\n",
    "        self.sc_x = LinearScale()\n",
    "        self.sc_y = LinearScale(min = -3, max = 3)\n",
    "        self.scat = Scatter(x = self.xdata[self.data.value], y = self.ydata[self.data.value],\\\n",
    "                            scales = {'x':self.sc_x, 'y':self.sc_y}, \\\n",
    "               colors = ['violet'], marker = 'diamond', \\\n",
    "              enable_move = True)\n",
    "        self.lin = Lines(x = [],y = [], scales = {'x':self.sc_x, 'y':self.sc_y}, display_legend = True,\\\n",
    "                         labels=['prediction'])\n",
    "        \n",
    "        display(self.deg)\n",
    "        self.deg.observe(self.update_line, names = 'value')\n",
    "        display(self.sigma)\n",
    "        self.sigma.observe(self.update_line, names = 'value')\n",
    "        display(self.data)\n",
    "        self.data.observe(self.update_all, names = 'value')\n",
    "        display(self.model)\n",
    "        self.model.observe(self.update_line, names = 'value')\n",
    "        \n",
    "        self.update_line()\n",
    "        \n",
    "        with self.scat.hold_sync():\n",
    "            self.scat.enable_move = True\n",
    "            self.scat.interactions = {'click': 'add'}\n",
    "\n",
    "        self.scat.observe(self.update_line, names=['x'])\n",
    "        self.scat.observe(self.update_line, names=['y'])\n",
    "        ax_x = Axis(scale=self.sc_x, label='x data')\n",
    "        ax_y = Axis(scale=self.sc_y, orientation='vertical', \\\n",
    "            label='y data')\n",
    "       \n",
    "        \n",
    "        #panzoom = panzoom = PanZoom(scales={'x': [self.sc_x], 'y': [self.sc_y]})\n",
    "        return Figure(marks=[self.scat,self.lin], axes=[ax_x, ax_y], title = self.htitle)"
   ]
  },
  {
   "cell_type": "code",
   "execution_count": 9,
   "metadata": {},
   "outputs": [
    {
     "data": {
      "application/vnd.jupyter.widget-view+json": {
       "model_id": "264daf44c4314d2390434e357a30b519",
       "version_major": 2,
       "version_minor": 0
      },
      "text/plain": [
       "IntSlider(value=2, description='Poly degree', max=10)"
      ]
     },
     "metadata": {},
     "output_type": "display_data"
    },
    {
     "data": {
      "application/vnd.jupyter.widget-view+json": {
       "model_id": "2b354d882ea1473b9cf81d7448120cc9",
       "version_major": 2,
       "version_minor": 0
      },
      "text/plain": [
       "FloatSlider(value=1.0, description='RBF width', max=2.0, min=0.1, step=0.02)"
      ]
     },
     "metadata": {},
     "output_type": "display_data"
    },
    {
     "data": {
      "application/vnd.jupyter.widget-view+json": {
       "model_id": "a6a71dad65ba4ccca6fa35c3648e789e",
       "version_major": 2,
       "version_minor": 0
      },
      "text/plain": [
       "Dropdown(description='Data set', options=('Lin', 'Sin1', 'Sin2'), value='Lin')"
      ]
     },
     "metadata": {},
     "output_type": "display_data"
    },
    {
     "data": {
      "application/vnd.jupyter.widget-view+json": {
       "model_id": "9dcd17c2983a4738b0898cff2db116b1",
       "version_major": 2,
       "version_minor": 0
      },
      "text/plain": [
       "Dropdown(description='Basis function', options=('Lin', 'Poly', 'RBF'), value='Lin')"
      ]
     },
     "metadata": {},
     "output_type": "display_data"
    },
    {
     "data": {
      "application/vnd.jupyter.widget-view+json": {
       "model_id": "cef4d61cab3142c2bd9f9eb12de6990f",
       "version_major": 2,
       "version_minor": 0
      },
      "text/plain": [
       "Figure(axes=[Axis(label='x data', scale=LinearScale()), Axis(label='y data', orientation='vertical', scale=Lin…"
      ]
     },
     "metadata": {},
     "output_type": "display_data"
    }
   ],
   "source": [
    "plot = InteractiveDemo()\n",
    "plot.scatter_and_line()"
   ]
  },
  {
   "cell_type": "markdown",
   "metadata": {},
   "source": [
    "Note that with flexible models, i.e. polynomial of high degree or radial basis functions with small lengthscale, the fit is very sensitive to single data points. This is known as over-fitting as the model starts to fit noise in the data. In order to enable reasonable fits even with flexible models, we need to control the complexity of the model.\n",
    "\n",
    "A simple and widely used technique to control model complexity is regularization. Here, instead of minimizing the squared error between model predictions and data points, a penalized error function is used:\n",
    "$$ w_{L2} = \\mathtt{argmin}_{\\mathbf{w}} \\frac{1}{2} \\sum_{n=1}^N (t_n - \\mathbf{w}^T \\mathbf{x}_n)^2 + \\frac{\\lambda}{2} || \\mathbf{w} ||_2 $$\n",
    "Thus, large weights are disfavored by penalizing the L2 norm of the weight vector, i.e. $|| \\mathbf{w} ||_2 = \\sum_i w_i^2$.\n",
    "\n",
    "Exercise: Compute the optimal weight vector $\\mathbf{w}_{L2}$."
   ]
  },
  {
   "cell_type": "code",
   "execution_count": 10,
   "metadata": {},
   "outputs": [],
   "source": [
    "class LinearRegressionL2:\n",
    "    \"\"\"\n",
    "    Linear regression with L2 regularization\n",
    "    \"\"\"\n",
    "    \n",
    "    def __init__(self, lam):\n",
    "        \"\"\"\n",
    "        Create a linear regression model\n",
    "        t = X w\n",
    "        \n",
    "        that minimizes\n",
    "        ||X w - t||_2 + \\\\lambda || w ||_2\n",
    "        \"\"\"\n",
    "        self.weights_ = None\n",
    "        self.lambda_ = lam\n",
    "        \n",
    "    def fit(self, X, t):\n",
    "        \"\"\"\n",
    "        Fit linear model on training data D = (X, t)\n",
    "        \"\"\"\n",
    "        num_samples, num_features = X.shape\n",
    "        self.weights_ = np.linalg.solve(np.dot(X.T, X) + self.lambda_ * np.identity(num_features),\n",
    "                                        np.dot(X.T, t))\n",
    "        \n",
    "        return self\n",
    "    \n",
    "    def predict(self, X):\n",
    "        \"\"\"\n",
    "        Predict model response on inputs X\n",
    "        \"\"\"\n",
    "        num_samples, num_features = X.shape\n",
    "        \n",
    "        return np.dot(X, self.weights_)"
   ]
  },
  {
   "cell_type": "code",
   "execution_count": 11,
   "metadata": {},
   "outputs": [],
   "source": [
    "class InteractiveDemoL2:\n",
    "    \n",
    "    def __init__(self):\n",
    "        self.sigma = FloatSlider(1, min = 0.1, max = 2, step = 0.02,\n",
    "                                 description = \"RBF width\")\n",
    "        self.deg = IntSlider(2, min = 0, max = 10, step = 1,\n",
    "                             description = \"Poly degree\")\n",
    "        self.log_lam = FloatSlider(0, min = -5, max = 3, step = 0.01,\n",
    "                                   description = \"Log lambda\")\n",
    "        self.model = Dropdown(options = ['Lin', 'Poly', 'RBF'],\n",
    "                              value = 'Lin',\n",
    "                              description = 'Basis function')\n",
    "        self.data = Dropdown(options = ['Lin', 'Sin1', 'Sin2'],\n",
    "                             value = 'Lin',\n",
    "                             description = 'Data set')\n",
    "        N = 25\n",
    "        x = np.random.uniform(size = N)\n",
    "        self.xdata = {'Lin': x,\n",
    "                      'Sin1': x,\n",
    "                      'Sin2': x}\n",
    "        self.ydata = {'Lin': 2.0 * x - 1.0 + 0.3 * np.random.normal(size = N),\n",
    "                      'Sin1': np.sin(2. * np.pi * x) + 0.3 * np.random.normal(size = N),\n",
    "                      'Sin2': np.sin(2. * np.pi * x) + 0.3 * np.random.normal(size = N)}\n",
    "        self.htitle = 'Regression demo'\n",
    "        \n",
    "    def get_model(self):\n",
    "        lam = np.exp(self.log_lam.value)\n",
    "        if self.model.value == 'Lin':\n",
    "            return Pipeline([InterceptFeature(), LinearRegressionL2(lam)])\n",
    "        elif self.model.value == 'Poly':\n",
    "            return Pipeline([PolynomialFeatures(self.deg.value), LinearRegressionL2(lam)])\n",
    "        else:\n",
    "            return Pipeline([GaussianBasisFunctions(np.linspace(-1, 2, 12)[:, None], self.sigma.value),\n",
    "                                                     InterceptFeature(),\n",
    "                                                     LinearRegressionL2(lam)])\n",
    "        \n",
    "    def update_all(self, change=None):\n",
    "        with self.scat.hold_sync():\n",
    "            self.scat.x = self.xdata[self.data.value]\n",
    "            self.scat.y = self.ydata[self.data.value]\n",
    "        self.update_line(change)\n",
    "    \n",
    "    def update_line(self, change=None):\n",
    "        with self.lin.hold_sync():\n",
    "            self.lin.x = np.linspace(-0.5, 1.5, 251)\n",
    "            self.lin.y = self.get_model().fit(self.scat.x[:, None], self.scat.y).predict(self.lin.x[:, None])\n",
    "    \n",
    "    def scatter_and_line(self):\n",
    "        self.sc_x = LinearScale()\n",
    "        self.sc_y = LinearScale(min = -3, max = 3)\n",
    "        self.scat = Scatter(x = self.xdata[self.data.value], y = self.ydata[self.data.value],\\\n",
    "                            scales = {'x':self.sc_x, 'y':self.sc_y}, \\\n",
    "               colors = ['violet'], marker = 'diamond', \\\n",
    "              enable_move = True)\n",
    "        self.lin = Lines(x = [],y = [], scales = {'x':self.sc_x, 'y':self.sc_y}, display_legend = True,\\\n",
    "                         labels=['prediction'])\n",
    "        \n",
    "        display(self.deg)\n",
    "        self.deg.observe(self.update_line, names = 'value')\n",
    "        display(self.sigma)\n",
    "        self.sigma.observe(self.update_line, names = 'value')\n",
    "        display(self.data)\n",
    "        self.data.observe(self.update_all, names = 'value')\n",
    "        display(self.model)\n",
    "        self.model.observe(self.update_line, names = 'value')\n",
    "        display(self.log_lam)\n",
    "        self.log_lam.observe(self.update_line, names = 'value')\n",
    "        \n",
    "        self.update_line()\n",
    "        \n",
    "        with self.scat.hold_sync():\n",
    "            self.scat.enable_move = True\n",
    "            ## self.scat.interactions = {'click': 'add'}\n",
    "\n",
    "        self.scat.observe(self.update_line, names=['x'])\n",
    "        self.scat.observe(self.update_line, names=['y'])\n",
    "        ax_x = Axis(scale=self.sc_x, label='x data')\n",
    "        ax_y = Axis(scale=self.sc_y, orientation='vertical', \\\n",
    "            label='y data')\n",
    "       \n",
    "        \n",
    "        #panzoom = panzoom = PanZoom(scales={'x': [self.sc_x], 'y': [self.sc_y]})\n",
    "        return Figure(marks=[self.scat,self.lin], axes=[ax_x, ax_y], title = self.htitle)"
   ]
  },
  {
   "cell_type": "code",
   "execution_count": 12,
   "metadata": {},
   "outputs": [
    {
     "data": {
      "application/vnd.jupyter.widget-view+json": {
       "model_id": "d59b85c0701a44a0aed6fcca38cf3c5e",
       "version_major": 2,
       "version_minor": 0
      },
      "text/plain": [
       "IntSlider(value=2, description='Poly degree', max=10)"
      ]
     },
     "metadata": {},
     "output_type": "display_data"
    },
    {
     "data": {
      "application/vnd.jupyter.widget-view+json": {
       "model_id": "98febe22d4c84c99937dec0d79015d60",
       "version_major": 2,
       "version_minor": 0
      },
      "text/plain": [
       "FloatSlider(value=1.0, description='RBF width', max=2.0, min=0.1, step=0.02)"
      ]
     },
     "metadata": {},
     "output_type": "display_data"
    },
    {
     "data": {
      "application/vnd.jupyter.widget-view+json": {
       "model_id": "d6500f4eca3748a5be7cc5c5557e0ba8",
       "version_major": 2,
       "version_minor": 0
      },
      "text/plain": [
       "Dropdown(description='Data set', options=('Lin', 'Sin1', 'Sin2'), value='Lin')"
      ]
     },
     "metadata": {},
     "output_type": "display_data"
    },
    {
     "data": {
      "application/vnd.jupyter.widget-view+json": {
       "model_id": "4b0a9c11980642ab917275bc022dc924",
       "version_major": 2,
       "version_minor": 0
      },
      "text/plain": [
       "Dropdown(description='Basis function', options=('Lin', 'Poly', 'RBF'), value='Lin')"
      ]
     },
     "metadata": {},
     "output_type": "display_data"
    },
    {
     "data": {
      "application/vnd.jupyter.widget-view+json": {
       "model_id": "c87c0d3c7ba74f63aa81c1a2c6260d58",
       "version_major": 2,
       "version_minor": 0
      },
      "text/plain": [
       "FloatSlider(value=0.0, description='Log lambda', max=3.0, min=-5.0, step=0.01)"
      ]
     },
     "metadata": {},
     "output_type": "display_data"
    },
    {
     "data": {
      "application/vnd.jupyter.widget-view+json": {
       "model_id": "e0d197dbb1d9434180721061b9c22f69",
       "version_major": 2,
       "version_minor": 0
      },
      "text/plain": [
       "Figure(axes=[Axis(label='x data', scale=LinearScale()), Axis(label='y data', orientation='vertical', scale=Lin…"
      ]
     },
     "metadata": {},
     "output_type": "display_data"
    }
   ],
   "source": [
    "plotL2 = InteractiveDemoL2()\n",
    "plotL2.scatter_and_line()"
   ]
  },
  {
   "cell_type": "markdown",
   "metadata": {},
   "source": [
    "Now, using a regularized fit we can fit much more flexible models without being overly sensitive to single data points. A theoretical explanations of why this is the case can be given in terms of the *bias-variance decomposition*. Here, instead we consider Bayesian linear regression as an alternative, principled way to control model complexity."
   ]
  },
  {
   "cell_type": "code",
   "execution_count": null,
   "metadata": {},
   "outputs": [],
   "source": []
  }
 ],
 "metadata": {
  "kernelspec": {
   "display_name": "Python 3",
   "language": "python",
   "name": "python3"
  },
  "language_info": {
   "codemirror_mode": {
    "name": "ipython",
    "version": 3
   },
   "file_extension": ".py",
   "mimetype": "text/x-python",
   "name": "python",
   "nbconvert_exporter": "python",
   "pygments_lexer": "ipython3",
   "version": "3.6.4"
  }
 },
 "nbformat": 4,
 "nbformat_minor": 2
}
