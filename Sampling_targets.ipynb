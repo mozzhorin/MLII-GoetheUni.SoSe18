{
 "cells": [
  {
   "cell_type": "markdown",
   "metadata": {},
   "source": [
    "# >>Disclaimer\n",
    "\n",
    "'Target' class discribes different target distributions."
   ]
  },
  {
   "cell_type": "code",
   "execution_count": 1,
   "metadata": {},
   "outputs": [],
   "source": [
    "# <api>\n",
    "import numpy as np\n",
    "from scipy.stats import norm\n",
    "from scipy.stats import multivariate_normal\n",
    "from functools import partial\n",
    "import time\n",
    "\n",
    "from matplotlib import pyplot as plt\n",
    "from bqplot import pyplot as bqplt\n",
    "import bqplot\n",
    "import ipywidgets\n",
    "from ipywidgets import widgets, Layout\n",
    "from IPython import display\n",
    "#from ipywidgets import Layout\n",
    "%matplotlib inline\n",
    "\n",
    "# Load classes and functions from the previous parts\n",
    "from jupyter_cms.loader import load_notebook\n",
    "#smpl1 = load_notebook('./Sampling_part1.ipynb')\n",
    "#smpl2 = load_notebook('./Sampling_part2.ipynb')\n",
    "#smpl3 = load_notebook('./Sampling_part3.ipynb')\n",
    "#smpl4 = load_notebook('./Sampling_part4.ipynb')\n",
    "#smpl5 = load_notebook('./Sampling_part5.ipynb')\n",
    "#smpl6 = load_notebook('./Sampling_part6.ipynb')"
   ]
  },
  {
   "cell_type": "markdown",
   "metadata": {},
   "source": [
    "## Targed distributions"
   ]
  },
  {
   "cell_type": "code",
   "execution_count": 2,
   "metadata": {},
   "outputs": [],
   "source": [
    "#<api>\n",
    "class Target(object):\n",
    "    '''A clas of different targets for animation.'''    \n",
    "    def __init__(self):\n",
    "        self.size = 3 # Size of the plot       \n",
    "        X, Y = np.mgrid[-size:size:(1/200), -size:size:(1/200)]\n",
    "        self.X = X\n",
    "        self.Y = Y\n",
    "        self.Z = X # doesn't have any sense, \n",
    "        \n",
    "    def plot(self):\n",
    "        plt.contourf(self.X, self.Y, self.Z)"
   ]
  },
  {
   "cell_type": "markdown",
   "metadata": {},
   "source": [
    "## Multivariate normal"
   ]
  },
  {
   "cell_type": "code",
   "execution_count": 3,
   "metadata": {},
   "outputs": [],
   "source": [
    "#<api>       \n",
    "class MultNorm (Target):\n",
    "    '''Multivariate normal target distribution'''\n",
    "    def __init__(self, size=3, cov=[[1, 0.99],[0.99, 1]]):\n",
    "        self.size = size\n",
    "        self.start_point = [0, -2]\n",
    "        self.distr = multivariate_normal(mean=[0,0], cov=cov)\n",
    "        self.x = np.linspace(-size, size, 200)\n",
    "        self.y = np.linspace(-size, size, 200)\n",
    "        self.X, self.Y = np.meshgrid(self.x, self.y)     \n",
    "        self.XY = np.empty(self.X.shape + (2,))\n",
    "        self.XY[:,:,0] = self.X; self.XY[:,:,1] = self.Y        \n",
    "        self.Z = self.distr.pdf(self.XY)\n",
    "        \n",
    "        \n",
    "    def pdf(self, xy):\n",
    "        return self.distr.pdf(xy)\n",
    "    \n",
    "    def logpdf(self, xy):\n",
    "        return self.distr.logpdf(xy)       "
   ]
  },
  {
   "cell_type": "code",
   "execution_count": 4,
   "metadata": {},
   "outputs": [
    {
     "data": {
      "image/png": "[encoded data removed]",
      "text/plain": [
       "<matplotlib.figure.Figure at 0x7ff0c99109b0>"
      ]
     },
     "metadata": {},
     "output_type": "display_data"
    }
   ],
   "source": [
    "mn = MultNorm()\n",
    "mn.plot()"
   ]
  },
  {
   "cell_type": "markdown",
   "metadata": {},
   "source": [
    "## Bimodal multivariate normal"
   ]
  },
  {
   "cell_type": "code",
   "execution_count": 13,
   "metadata": {},
   "outputs": [],
   "source": [
    "#<api>\n",
    "class BimodMultNorm (Target):\n",
    "    '''Bimodal multivariate normal target distribution. \n",
    "    Constants a1 and a2 are used to set the amplitude of the 1st and the 2nd distribution.'''\n",
    "    \n",
    "    def __init__(self, size=4, a1=1, mean1=[1,2], cov1=[[1, 0.1],[0.1, 1]], \n",
    "                 a2=1, mean2=[-1,-1], cov2=[[1, -0.1],[-0.1, 1]]):\n",
    "        self.size = size\n",
    "        self.start_point = [-2.5, -2.5]\n",
    "        self.mod1 = multivariate_normal(mean=mean1, cov=cov1)\n",
    "        self.mod2 = multivariate_normal(mean=mean2, cov=cov2)\n",
    "        self.x = np.linspace(-size, size, 200)\n",
    "        self.y = np.linspace(-size, size, 200)\n",
    "        self.X, self.Y = np.meshgrid(self.x, self.y)     \n",
    "        self.XY = np.empty(self.X.shape + (2,))\n",
    "        self.XY[:,:,0] = self.X; self.XY[:,:,1] = self.Y\n",
    "        self.a1=a1\n",
    "        self.a2=a2\n",
    "        self.Z = a1*self.mod1.pdf(self.XY) + a2*self.mod2.pdf(self.XY)        \n",
    "        \n",
    "    def pdf(self, xy):\n",
    "        return self.a1*self.mod1.pdf(xy) + self.a2*self.mod2.pdf(xy)\n",
    "    \n",
    "    def logpdf(self, xy):\n",
    "        return np.log(self.pdf(xy))"
   ]
  },
  {
   "cell_type": "code",
   "execution_count": 14,
   "metadata": {},
   "outputs": [
    {
     "data": {
      "image/png": "[encoded data removed]",
      "text/plain": [
       "<matplotlib.figure.Figure at 0x7ff0c11a3898>"
      ]
     },
     "metadata": {},
     "output_type": "display_data"
    }
   ],
   "source": [
    "bm = BimodMultNorm()\n",
    "bm.plot()"
   ]
  },
  {
   "cell_type": "code",
   "execution_count": 7,
   "metadata": {},
   "outputs": [
    {
     "data": {
      "image/png": "[encoded data removed]",
      "text/plain": [
       "<matplotlib.figure.Figure at 0x7ff0c1339080>"
      ]
     },
     "metadata": {},
     "output_type": "display_data"
    }
   ],
   "source": [
    "bb8 = BimodMultNorm(size=3, a1=1, mean1=[0,1.5], cov1=[[.2, 0],[0, .2]], \n",
    "                    a2=5, mean2=[0,-0.7], cov2=[[1, 0],[0, 1]])\n",
    "bb8.plot()"
   ]
  },
  {
   "cell_type": "markdown",
   "metadata": {},
   "source": [
    "## Rosenbrock (banana) function"
   ]
  },
  {
   "cell_type": "code",
   "execution_count": 18,
   "metadata": {},
   "outputs": [],
   "source": [
    "#<api>\n",
    "class Rosenbrock (Target):\n",
    "    '''Rosenbrock function (banana function). NOT READY YET!'''\n",
    "    def __init__(self, size=2, a=1, b=100):\n",
    "        self.size = size\n",
    "        self.start_point = [-1.5, -1.5]\n",
    "        self.a = a\n",
    "        self.b = b \n",
    "        self.distr = multivariate_normal(mean=[0,0], cov=[[2, 0],[0, 2]])\n",
    "        self.x = np.linspace(-size, size, 200)\n",
    "        self.y = np.linspace(-size, size, 200)\n",
    "        self.X, self.Y = np.meshgrid(self.x, self.y)     \n",
    "        self.XY = np.empty(self.X.shape + (2,))\n",
    "        self.XY[:,:,0] = self.X; self.XY[:,:,1] = self.Y  \n",
    "        self.Z = self.pdf(self.XY)\n",
    "        \n",
    "    \n",
    "    def logpdf(self, xy):\n",
    "        '''The function calculates -log(pdf) for one sample ([x,y]). Used only for sampling, not for plots.'''\n",
    "        return -np.log((self.a-xy[0])**2 + self.b*(xy[1]-xy[0]*xy[0])**2)\n",
    "    \n",
    "    def pdf(self, xy):\n",
    "        '''Probability density function of this distribution. Used to plot the heatmap.'''\n",
    "        return (self.a-xy[:,:,0])**2 + self.b*(xy[:,:,1]-xy[:,:,0]*xy[:,:,0])**2\n",
    "    \n",
    "    def minlogpdf2plot(self, xy):\n",
    "        '''The function calculates -log(pdf). Used just for plotting log-density; not for animation.'''\n",
    "        return np.log(self.pdf(xy))\n",
    "    \n",
    "    def plot(self):\n",
    "        plt.contourf(self.X, self.Y, self.Z)\n",
    "        plt.colorbar()\n",
    "        plt.show()"
   ]
  },
  {
   "cell_type": "code",
   "execution_count": 10,
   "metadata": {
    "scrolled": false
   },
   "outputs": [
    {
     "data": {
      "image/png": "[encoded data removed]",
      "text/plain": [
       "<matplotlib.figure.Figure at 0x7f03b0865cc0>"
      ]
     },
     "metadata": {},
     "output_type": "display_data"
    }
   ],
   "source": [
    "r = Rosenbrock(size=2, a=1, b=100)\n",
    "r.plot()"
   ]
  },
  {
   "cell_type": "code",
   "execution_count": 11,
   "metadata": {
    "scrolled": true
   },
   "outputs": [
    {
     "data": {
      "image/png": "[encoded data removed]",
      "text/plain": [
       "<matplotlib.figure.Figure at 0x7f03b072a400>"
      ]
     },
     "metadata": {},
     "output_type": "display_data"
    }
   ],
   "source": [
    "# Plot log-distribution\n",
    "plt.contourf(r.X, r.Y, r.minlogpdf2plot(r.XY));\n",
    "plt.colorbar()\n",
    "plt.show()"
   ]
  },
  {
   "cell_type": "markdown",
   "metadata": {},
   "source": [
    "## Donut"
   ]
  },
  {
   "cell_type": "code",
   "execution_count": 13,
   "metadata": {},
   "outputs": [],
   "source": [
    "#<api>\n",
    "class Donut (Target):\n",
    "    '''Donut distribution using polar coorinates'''\n",
    "    \n",
    "    def __init__(self, size=4, mean=2, variance=0.2):\n",
    "        self.size = size\n",
    "        self.start_point = [-3.5, -3.5]\n",
    "        self.rad_distr = norm(loc=mean, scale=variance)        \n",
    "        self.x = np.linspace(-size, size, 200)\n",
    "        self.y = np.linspace(-size, size, 200)\n",
    "        self.X, self.Y = np.meshgrid(self.x, self.y)     \n",
    "        self.XY = np.empty(self.X.shape + (2,))\n",
    "        self.XY[:,:,0] = self.X \n",
    "        self.XY[:,:,1] = self.Y        \n",
    "        self.Z = self.pdf(self.XY)\n",
    "        \n",
    "    def pdf(self, xy):               \n",
    "        return self.rad_distr.pdf(np.sqrt(xy[:,:,0]**2 + xy[:,:,1]**2))\n",
    "    \n",
    "    def logpdf(self, xy):               \n",
    "        return self.rad_distr.logpdf(np.sqrt(xy[0]**2 + xy[1]**2))\n",
    "    \n",
    "    def logpdf2plot(self, xy):               \n",
    "        return self.rad_distr.logpdf(np.sqrt(xy[:,:,0]**2 + xy[:,:,1]**2))\n"
   ]
  },
  {
   "cell_type": "code",
   "execution_count": 15,
   "metadata": {},
   "outputs": [
    {
     "data": {
      "image/png": "[encoded data removed]",
      "text/plain": [
       "<matplotlib.figure.Figure at 0x7f03b068e908>"
      ]
     },
     "metadata": {},
     "output_type": "display_data"
    }
   ],
   "source": [
    "dr = Donut()\n",
    "dr.plot()"
   ]
  },
  {
   "cell_type": "code",
   "execution_count": 23,
   "metadata": {},
   "outputs": [
    {
     "data": {
      "image/png": "[encoded data removed]",
      "text/plain": [
       "<matplotlib.figure.Figure at 0x7fca9a1d9cf8>"
      ]
     },
     "metadata": {},
     "output_type": "display_data"
    }
   ],
   "source": [
    "# Plot log-distribution\n",
    "plt.contourf(dr.X, dr.Y, dr.logpdf2plot(dr.XY));\n",
    "plt.colorbar()\n",
    "plt.show()"
   ]
  },
  {
   "cell_type": "markdown",
   "metadata": {},
   "source": [
    "## Bad versions of donut and banana"
   ]
  },
  {
   "cell_type": "code",
   "execution_count": 23,
   "metadata": {},
   "outputs": [],
   "source": [
    "#<api>\n",
    "class Donut_bad (Target):\n",
    "    '''Donut distribution. Bad version.'''\n",
    "    \n",
    "    def __init__(self, size=4, a1=2, mean1=[0,0], cov1=[[1, 0],[0, 1]], \n",
    "                 a2=1, mean2=[0,0], cov2=[[0.25, 0],[0, 0.25]]):\n",
    "        self.size = size\n",
    "        self.start_point = [-3, -3]\n",
    "        self.mod1 = multivariate_normal(mean=mean1, cov=cov1)\n",
    "        self.mod2 = multivariate_normal(mean=mean2, cov=cov2)\n",
    "        self.x = np.linspace(-size, size, 200)\n",
    "        self.y = np.linspace(-size, size, 200)\n",
    "        self.X, self.Y = np.meshgrid(self.x, self.y)     \n",
    "        self.XY = np.empty(self.X.shape + (2,))\n",
    "        self.XY[:,:,0] = self.X; self.XY[:,:,1] = self.Y\n",
    "        self.a1=a1\n",
    "        self.a2=a2\n",
    "        self.Z = np.maximum(0.0000000001,(self.a1*self.mod1.pdf(self.XY) - self.a2*self.mod2.pdf(self.XY)))\n",
    "        \n",
    "        \n",
    "    def pdf(self, xy):\n",
    "        return np.maximum(0.00000000001,(self.a1*self.mod1.pdf(xy) - self.a2*self.mod2.pdf(xy)))\n",
    "    \n",
    "    def logpdf(self, xy):\n",
    "        return np.log(np.maximum(0.000000000001,(self.a1*self.mod1.pdf(xy) - self.a2*self.mod2.pdf(xy))))"
   ]
  },
  {
   "cell_type": "code",
   "execution_count": 22,
   "metadata": {
    "scrolled": true
   },
   "outputs": [
    {
     "data": {
      "image/png": "[encoded data removed]",
      "text/plain": [
       "<matplotlib.figure.Figure at 0x7f03b09d59e8>"
      ]
     },
     "metadata": {},
     "output_type": "display_data"
    }
   ],
   "source": [
    "dnt = Donut_bad()\n",
    "dnt.plot()"
   ]
  },
  {
   "cell_type": "code",
   "execution_count": 24,
   "metadata": {
    "scrolled": false
   },
   "outputs": [
    {
     "data": {
      "image/png": "[encoded data removed]",
      "text/plain": [
       "<matplotlib.figure.Figure at 0x7fca9a159198>"
      ]
     },
     "metadata": {},
     "output_type": "display_data"
    }
   ],
   "source": [
    "# Bad version of a banana distribution\n",
    "banana = Donut_bad(size=3, a1=20, mean1=[0,0], cov1=[[1, 0],[0, 1]], a2=10, mean2=[0,1.5], cov2=[[.2, 0],[0, 1]])\n",
    "banana.plot()"
   ]
  },
  {
   "cell_type": "code",
   "execution_count": null,
   "metadata": {},
   "outputs": [],
   "source": []
  }
 ],
 "metadata": {
  "kernelspec": {
   "display_name": "Python 3",
   "language": "python",
   "name": "python3"
  },
  "language_info": {
   "codemirror_mode": {
    "name": "ipython",
    "version": 3
   },
   "file_extension": ".py",
   "mimetype": "text/x-python",
   "name": "python",
   "nbconvert_exporter": "python",
   "pygments_lexer": "ipython3",
   "version": "3.6.4"
  }
 },
 "nbformat": 4,
 "nbformat_minor": 1
}
