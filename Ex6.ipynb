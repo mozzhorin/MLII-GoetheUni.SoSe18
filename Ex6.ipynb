{
 "cells": [
  {
   "cell_type": "code",
   "execution_count": 49,
   "metadata": {},
   "outputs": [],
   "source": [
    "# <api>\n",
    "import numpy as np\n",
    "from scipy.stats import norm\n",
    "from matplotlib import pyplot as plt\n",
    "from numpy.linalg import inv\n",
    "%matplotlib inline\n",
    "from pylab import rcParams\n",
    "rcParams['figure.figsize'] = 12, 6\n",
    "\n",
    "# Load classes and functions from the Part 1\n",
    "from jupyter_cms.loader import load_notebook\n",
    "smpl1 = load_notebook('./Sampling_part1.ipynb')\n",
    "smpl2 = load_notebook('./Sampling_part2.ipynb')"
   ]
  },
  {
   "cell_type": "code",
   "execution_count": 50,
   "metadata": {},
   "outputs": [],
   "source": [
    "#def calculateA(Sigma):\n",
    "#    sig=np.array(Sigma)\n",
    "#    if (sig.shape[0]!=2 or sig.shape[1]!=2 or sig[0,1]!=sig[1,0]):\n",
    "#        return('The covariance matrix is not symmetric')\n",
    "#    return np.array([[np.sqrt(sig[0,0]),0],[np.sqrt(sig[1,1]),0]])"
   ]
  },
  {
   "cell_type": "code",
   "execution_count": 54,
   "metadata": {},
   "outputs": [],
   "source": [
    "class SimpleNormalSampling (smpl1.Sampling):\n",
    "    def __init__ (self, mu, sigma, A):              \n",
    "        self.mu = np.array(mu)\n",
    "        self.sigma = np.array(sigma)\n",
    "        self.A = np.array(A)    \n",
    "\n",
    "    def sample (self):\n",
    "        x = [np.random.normal(), np.random.normal()]        \n",
    "        return (np.dot(self.A,x) + self.mu)"
   ]
  },
  {
   "cell_type": "code",
   "execution_count": 55,
   "metadata": {},
   "outputs": [
    {
     "data": {
      "text/plain": [
       "array([[4., 2.],\n",
       "       [2., 1.]])"
      ]
     },
     "execution_count": 55,
     "metadata": {},
     "output_type": "execute_result"
    }
   ],
   "source": [
    "A = [[1.6, 1.2],[0.8,0.6]]\n",
    "#A = [[0.56, 1.92],[0.28,0.96]]\n",
    "#A = [[2, 0],[1, 0]]\n",
    "np.dot(np.array(A), np.array(A).T)"
   ]
  },
  {
   "cell_type": "code",
   "execution_count": 56,
   "metadata": {},
   "outputs": [
    {
     "data": {
      "application/vnd.jupyter.widget-view+json": {
       "model_id": "c867ac83d7e0438f980332f182c97866",
       "version_major": 2,
       "version_minor": 0
      },
      "text/plain": [
       "HBox(children=(Button(description='Redraw', style=ButtonStyle()), IntSlider(value=7, continuous_update=False, …"
      ]
     },
     "metadata": {},
     "output_type": "display_data"
    },
    {
     "data": {
      "application/vnd.jupyter.widget-view+json": {
       "model_id": "1ab5d1ab446e46e693efa8ee4df1cbe8",
       "version_major": 2,
       "version_minor": 0
      },
      "text/plain": [
       "Output()"
      ]
     },
     "metadata": {},
     "output_type": "display_data"
    }
   ],
   "source": [
    "sampling = SimpleNormalSampling(mu=[2,-1], sigma=[[4,2],[2,1]], A=A)\n",
    "smpl1.show_sampling(sampling, plotter=smpl2.gauss_hist2d, exp=False)"
   ]
  },
  {
   "cell_type": "code",
   "execution_count": 57,
   "metadata": {},
   "outputs": [],
   "source": [
    "data = np.array([sampling.sample() for _ in range(100)])"
   ]
  },
  {
   "cell_type": "code",
   "execution_count": 58,
   "metadata": {},
   "outputs": [
    {
     "data": {
      "image/png": "[encoded data removed]",
      "text/plain": [
       "<matplotlib.figure.Figure at 0x7f4ce312b550>"
      ]
     },
     "metadata": {},
     "output_type": "display_data"
    }
   ],
   "source": [
    "x = np.array(data)[:,0]\n",
    "y = np.array(data)[:,1]\n",
    "plt.scatter(x, y)\n",
    "plt.show()"
   ]
  },
  {
   "cell_type": "code",
   "execution_count": 59,
   "metadata": {},
   "outputs": [
    {
     "data": {
      "text/plain": [
       "<matplotlib.contour.QuadContourSet at 0x7f4ce3011160>"
      ]
     },
     "execution_count": 59,
     "metadata": {},
     "output_type": "execute_result"
    },
    {
     "data": {
      "image/png": "[encoded data removed]",
      "text/plain": [
       "<matplotlib.figure.Figure at 0x7f4ce34cada0>"
      ]
     },
     "metadata": {},
     "output_type": "display_data"
    }
   ],
   "source": [
    "# <api>\n",
    "from scipy.stats import multivariate_normal\n",
    "p2d = multivariate_normal(mean=[2,-1], cov=[[4, 2],[2, 1.0001]], allow_singular=False)\n",
    "x = np.linspace(-1, 5, 200)\n",
    "y = np.linspace(-4, 2, 200)\n",
    "X, Y = np.meshgrid(x, y)\n",
    "XY = np.empty(X.shape + (2,))\n",
    "XY[:,:,0] = X; XY[:,:,1] = Y\n",
    "plt.contour(X, Y, p2d.pdf(XY))"
   ]
  },
  {
   "cell_type": "code",
   "execution_count": 134,
   "metadata": {},
   "outputs": [],
   "source": [
    "#api\n",
    "class RejectionSamplingD (smpl1.Sampling):\n",
    "    def __init__ (self, d, p, q, c):\n",
    "        \"\"\"\n",
    "        q is assumed to support sampling q.rvs and density evaluation q.pdf\n",
    "        \"\"\"\n",
    "        self.d = d\n",
    "        self.p = p\n",
    "        self.q = q\n",
    "        self.c = c\n",
    "        self.tries = 0\n",
    "        self.samples = 0\n",
    "    \n",
    "    def sample (self):\n",
    "        while True:\n",
    "            self.tries += 1 \n",
    "            self.passed = 1\n",
    "            for i in range(self.d):\n",
    "                x = self.q.rvs()\n",
    "                u = np.random.uniform(low=0, high=self.c*self.q.pdf(x))\n",
    "                if u < self.p.pdf(x):\n",
    "                    self.passed = self.passed*1\n",
    "                else:\n",
    "                    self.passed = self.passed*0\n",
    "            if self.passed>0:\n",
    "                self.samples += 1\n",
    "                return True\n",
    "            \n",
    "    def sample1 (self):\n",
    "        while self.tries<100000:\n",
    "            self.tries += 1 \n",
    "            self.passed = 1\n",
    "            h, u, ppdf = 1, 1, 1\n",
    "            for i in range(self.d):\n",
    "                x = self.q.rvs()                \n",
    "                ppdf *= self.p.pdf(x)\n",
    "                h *= self.q.pdf(x)\n",
    "            u = np.random.uniform(low=0, high=self.c*h)\n",
    "            if u < ppdf:                \n",
    "                self.samples += 1\n",
    "                return True           \n",
    "                \n",
    "            \n",
    "    def __str__ (self):\n",
    "        return \"Rejection sampling: %d tries for %d samples\" % (self.tries, self.samples)"
   ]
  },
  {
   "cell_type": "code",
   "execution_count": 135,
   "metadata": {},
   "outputs": [],
   "source": [
    "d = 5\n",
    "s2 = 2\n",
    "mu = np.zeros(d)\n",
    "sig = np.eye(d)*s2"
   ]
  },
  {
   "cell_type": "code",
   "execution_count": 145,
   "metadata": {},
   "outputs": [],
   "source": [
    "N = 100\n",
    "D=50\n",
    "sigP = 1\n",
    "sigQ = sigP * 1.01\n",
    "sampling = RejectionSamplingD(d=1, p=norm(loc=0, scale=sigP), q=norm(loc=0, scale=sigQ), c=sigQ/sigP)\n",
    "ratio = []\n",
    "for i in range(D):\n",
    "    sampling.d=i\n",
    "    sampling.c=(sigQ/sigP)**i\n",
    "    sampling.tries = 0\n",
    "    sampling.samples = 0\n",
    "    for n in range(N):\n",
    "        sampling.sample1()\n",
    "    ratio.append(sampling.tries/sampling.samples)\n",
    "   "
   ]
  },
  {
   "cell_type": "code",
   "execution_count": 146,
   "metadata": {},
   "outputs": [
    {
     "name": "stdout",
     "output_type": "stream",
     "text": [
      "Rejection sampling: 163 tries for 100 samples\n"
     ]
    }
   ],
   "source": [
    "print(sampling)"
   ]
  },
  {
   "cell_type": "code",
   "execution_count": 147,
   "metadata": {},
   "outputs": [
    {
     "data": {
      "text/plain": [
       "[<matplotlib.lines.Line2D at 0x7f23d7b1be10>]"
      ]
     },
     "execution_count": 147,
     "metadata": {},
     "output_type": "execute_result"
    },
    {
     "data": {
      "image/png": "[encoded data removed]",
      "text/plain": [
       "<matplotlib.figure.Figure at 0x7f23d7b99f60>"
      ]
     },
     "metadata": {},
     "output_type": "display_data"
    }
   ],
   "source": [
    "plt.plot(ratio)"
   ]
  },
  {
   "cell_type": "code",
   "execution_count": 139,
   "metadata": {},
   "outputs": [
    {
     "data": {
      "image/png": "[encoded data removed]",
      "text/plain": [
       "<matplotlib.figure.Figure at 0x7f23d8288ef0>"
      ]
     },
     "metadata": {},
     "output_type": "display_data"
    }
   ],
   "source": [
    "sp = 1\n",
    "sq = 1.01\n",
    "c = sq/sp\n",
    "p = norm(loc=0, scale=sp)\n",
    "q = norm(loc=0, scale=sq)\n",
    "x = np.arange(-5,5,0.01)\n",
    "plt.plot(x, p.pdf(x), 'b-', x, c*q.pdf(x), 'g-')\n",
    "plt.legend(['Density p(x)', 'Envelope c*q(x)']);"
   ]
  },
  {
   "cell_type": "code",
   "execution_count": null,
   "metadata": {},
   "outputs": [],
   "source": []
  },
  {
   "cell_type": "code",
   "execution_count": null,
   "metadata": {},
   "outputs": [],
   "source": []
  },
  {
   "cell_type": "code",
   "execution_count": null,
   "metadata": {},
   "outputs": [],
   "source": []
  },
  {
   "cell_type": "code",
   "execution_count": null,
   "metadata": {},
   "outputs": [],
   "source": []
  },
  {
   "cell_type": "code",
   "execution_count": 152,
   "metadata": {},
   "outputs": [
    {
     "data": {
      "text/plain": [
       "9"
      ]
     },
     "execution_count": 152,
     "metadata": {},
     "output_type": "execute_result"
    }
   ],
   "source": [
    "s1 = np.array([[4,2],[2,1]])\n",
    "s2 = np.array([[4,2],[1,1]])\n",
    "np.sum(s1)"
   ]
  },
  {
   "cell_type": "code",
   "execution_count": 45,
   "metadata": {},
   "outputs": [
    {
     "name": "stderr",
     "output_type": "stream",
     "text": [
      "/home/mo/anaconda3/lib/python3.6/site-packages/ipykernel_launcher.py:6: RuntimeWarning: invalid value encountered in sqrt\n",
      "  \n"
     ]
    },
    {
     "name": "stdout",
     "output_type": "stream",
     "text": [
      "A:  -4.263256414560601e-14 2.0 3.5762786865234375e-07 0.999999999999936 error:  1.2789769243681803e-13\n",
      "A:  0.34499999999995 1.9700190354410372 0.17255433926773717 0.9849999999999364 error:  3.0433429110132693e-09\n",
      "A:  0.5599999999999454 1.920000000000016 0.28000000000021635 0.9599999999999369 error:  0.0\n",
      "A:  0.7349999999999417 1.8600470424158861 0.3675595189899401 0.9299999999999375 error:  4.095757510924614e-09\n",
      "A:  0.7599999999999412 1.8499729727755725 0.3799671038394184 0.9249999999999376 error:  1.2647751734817803e-09\n",
      "A:  0.9499999999999371 1.759971590679838 0.47497368348163044 0.8799999999999386 error:  8.943314977472028e-10\n",
      "A:  1.1999999999999318 1.6000000000000512 0.6000000000000796 0.7999999999999403 error:  0.0\n",
      "A:  1.5449999999999244 1.2700295272158966 0.7725121358270505 0.6349999999999438 error:  3.6524250290881355e-10\n",
      "A:  1.5999999999999233 1.2000000000001023 0.8000000000000416 0.5999999999999446 error:  0.0\n",
      "A:  1.7599999999999199 0.9499473669631818 0.8799857953399305 0.47499999999994724 error:  8.943314977472028e-10\n",
      "A:  1.8149999999999187 0.8401041602088966 0.907524104363098 0.4199999999999484 error:  3.293357586642287e-09\n",
      "A:  1.849999999999918 0.7599342076787329 0.924986486387795 0.37999999999994927 error:  1.2647753955263852e-09\n",
      "A:  1.9199999999999164 0.5600000000002864 0.9600000000000142 0.2799999999999514 error:  0.0\n",
      "A:  1.9999999999999147 5.840038639982171e-07 1.0 -4.263256414560601e-14 error:  8.526512829121202e-14\n"
     ]
    }
   ],
   "source": [
    "step = 0.005\n",
    "sig = np.array([[4,2],[2,1]])\n",
    "for a11 in np.arange(-2., 2.+step, step):\n",
    "    for a22 in np.arange(-2., 2.+step, step):\n",
    "        a12 = np.sqrt(sig[0,0] - a11**2)\n",
    "        a21 = np.sqrt(sig[1,1] - a22**2)\n",
    "        diff = sig[0,1] - (a11*a21 + a12*a22)\n",
    "        if np.abs(diff) < 0.00000001:\n",
    "            print('A: ', a11, a12, a21, a22, 'error: ', diff)\n",
    "        "
   ]
  },
  {
   "cell_type": "code",
   "execution_count": 33,
   "metadata": {},
   "outputs": [
    {
     "data": {
      "text/plain": [
       "array([[4., 2.],\n",
       "       [2., 1.]])"
      ]
     },
     "execution_count": 33,
     "metadata": {},
     "output_type": "execute_result"
    }
   ],
   "source": [
    "A = np.array([[0.56, 1.92],[0.28,0.96]])\n",
    "np.dot(A,A.T)"
   ]
  },
  {
   "cell_type": "code",
   "execution_count": null,
   "metadata": {},
   "outputs": [],
   "source": []
  }
 ],
 "metadata": {
  "kernelspec": {
   "display_name": "Python 3",
   "language": "python",
   "name": "python3"
  },
  "language_info": {
   "codemirror_mode": {
    "name": "ipython",
    "version": 3
   },
   "file_extension": ".py",
   "mimetype": "text/x-python",
   "name": "python",
   "nbconvert_exporter": "python",
   "pygments_lexer": "ipython3",
   "version": "3.6.4"
  }
 },
 "nbformat": 4,
 "nbformat_minor": 2
}
